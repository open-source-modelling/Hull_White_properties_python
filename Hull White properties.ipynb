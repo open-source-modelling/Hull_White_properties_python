{
 "cells": [
  {
   "cell_type": "markdown",
   "id": "9512d0f3",
   "metadata": {},
   "source": [
    "## Hull White properties\n",
    "\n",
    "\n",
    "Start with the Hull-White model writted as:\n",
    "\n",
    "$$ dr_t = (\\theta_t - a r_t) dt + \\sigma dW_t  $$\n",
    "\n",
    "Now define:\n",
    "\n",
    "$$ G := e^{at} r_t$$\n"
   ]
  },
  {
   "cell_type": "markdown",
   "id": "e908b183",
   "metadata": {},
   "source": [
    "A quick refresher on Ito's lema:\n",
    "\n",
    "Assume we are given a stochastic differential equation\n",
    "\n",
    "$$ dX_t = a(t) dt +b(t) dW_t $$\n",
    "\n",
    "Where $W_t$ is a Wiener process and functions a and b are deterministic functions of time.\n",
    "\n",
    "Now we define a new function $ G:=f(t,X_t)$\n",
    "\n",
    "we can calculate the derivative as:\n",
    "\n",
    "$$ dG = \\bigg( \\frac{\\partial G}{\\partial X_t} a(t) + \\frac{\\partial G}{\\partial t} + \\frac{1}{2} \\frac{\\partial G^2}{\\partial X^2_t} b(t) \\bigg)dt + \\frac{\\partial G}{\\partial X_t} b(t) dW_t  $$ \n"
   ]
  },
  {
   "cell_type": "markdown",
   "id": "0d1c55f7",
   "metadata": {},
   "source": [
    "Comming back to our Hull White model, we define:\n",
    "\n",
    "$$ G:= e^{at}r_t $$\n",
    "\n",
    "and we already define the function $dr_t = (\\theta_t - a r_t) dt + \\sigma dW_t $. We can see that\n",
    "\n",
    "$$ a(t) = (\\theta_t - a r_t)  $$\n",
    "\n",
    "$$ b(t) = \\sigma $$ \n",
    "\n",
    "therefore noting that $r_t$ is our function $X$:\n",
    "\n",
    "$$ dG = \\bigg( \\frac{\\partial G}{\\partial r_t} a(t) + \\frac{\\partial G}{\\partial t} + \\frac{1}{2} \\frac{\\partial G^2}{\\partial r^2_t} b(t) \\bigg)dt + \\frac{\\partial G}{\\partial r_t} b(t) dW_t  $$ \n",
    "\n",
    "The partial derivatives of G are\n",
    "\n",
    "$$ \\frac{\\partial G}{\\partial t} = a e^{at} r_t   $$\n",
    "\n",
    "$$ \\frac{\\partial G}{\\partial r_t} =  e^{at} $$\n",
    "\n",
    "$$ \\frac{\\partial G}{\\partial r_t} =  0 $$\n",
    "\n",
    "Now applying the Ito's lema to the function G brings:\n",
    "\n",
    "$$ dG = \\big( e^{at} ( \\theta_t - ar_t) + a e^{at}r_t +\\frac{1}{2}0 \\big) dt + e^{at}\\sigma dW_t = $$\n",
    "\n",
    "$$ = \\theta_t e^{at} dt + \\sigma e^{at} dW_t  $$\n",
    "\n",
    "To summarize:\n",
    "\n",
    "$$ dG = \\theta_t e^{at} dt + \\sigma e^{at} dW_t  $$\n"
   ]
  },
  {
   "cell_type": "markdown",
   "id": "04b64fc8",
   "metadata": {},
   "source": [
    "In the next step, we will calculate the integral $ \\int_0^t dG $ in two different ways, which will lead to the formula for the interest rate $r_t$"
   ]
  },
  {
   "cell_type": "markdown",
   "id": "dcba6902",
   "metadata": {},
   "source": [
    "### First way of integrating\n",
    "\n",
    "$$ \\int_0^t dG = \\int_0^t d(e^{au}r_u) = \\bigg[e^{au}r_u\\bigg]_0^t = e^{at}r_t - e^{a0}r_0 = e^{at}r_t - r_0 $$\n"
   ]
  },
  {
   "cell_type": "markdown",
   "id": "d5b519b6",
   "metadata": {},
   "source": [
    "### Second way of integrating\n",
    "\n",
    "$$ \\int_0^t dG = \\int_0^t \\theta_u e^{au} du + \\int_0^t\\sigma e^{au} dW_u =\\int_0^t \\theta_u e^{au} du + \\sigma \\int_0^t e^{au} dW_u$$\n"
   ]
  },
  {
   "cell_type": "markdown",
   "id": "d1a1263d",
   "metadata": {},
   "source": [
    "Since both ways represent the solution of the same integral, we can assume they are equal. Therefore:\n",
    "\n",
    "$$e^{at}r_t - r_0 = \\int_0^t \\theta_u e^{au} du + \\sigma \\int_0^t e^{au} dW_u $$\n",
    "\n",
    "$$e^{at}r_t  =r_0+ \\int_0^t \\theta_u e^{au} du + \\sigma \\int_0^t e^{au} dW_u $$\n",
    "\n",
    "The final formula is the following:\n",
    "\n",
    "$$r_t  =e^{-at} r_0+ \\int_0^t \\theta_u e^{a(u-t)} du + \\sigma \\int_0^t e^{a(u-t)} dW_u $$"
   ]
  },
  {
   "cell_type": "markdown",
   "id": "45192cab",
   "metadata": {},
   "source": [
    "## Expected value\n",
    "\n",
    "$$ E\\bigg[r_t | F_0 \\bigg] = E\\bigg[e^{-at} r_0+ \\int_0^t \\theta_u e^{a(u-t)} du + \\sigma \\int_0^t e^{a(u-t)} dW_u \\bigg] = e^{-at} r_0 + \\int_0^t \\theta_u e^{a(u-t)} du $$\n",
    "\n",
    "Where we used the fact that the expectation of a driftless Wiener process is equal to 0 and the fact that the first two terms are deterministic functions of time therefore the expectation operator can be left out.\n"
   ]
  },
  {
   "cell_type": "markdown",
   "id": "efb53e9a",
   "metadata": {},
   "source": [
    "## Variance\n",
    "\n",
    "$$ V\\bigg[r_t | F_0 \\bigg] = E\\bigg[\\big(r_t - E[r_t]\\big)^2 | F_0 \\bigg] = $$\n",
    "\n",
    "$$ = E\\bigg[ \\bigg(e^{-at} r_0+ \\int_0^t \\theta_u e^{a(u-t)} du + \\sigma \\int_0^t e^{a(u-t)} dW_u - e^{-at} r_0 - \\int_0^t \\theta_u e^{a(u-t)} du \\bigg)^2 | F_0 \\bigg]=  $$\n",
    "\n",
    "\n",
    "$$ = E\\bigg[ \\bigg(\\sigma \\int_0^t e^{a(u-t)} dW_u\\bigg)^2| F_0 \\bigg] = E\\bigg[\\sigma^2 \\bigg( \\int_0^t e^{a(u-t)} dW_u\\bigg)^2| F_0 \\bigg] $$\n",
    "\n",
    "Applying the Ito isometry to the last expression we obtain\n",
    "\n",
    "$$ E\\bigg[\\sigma^2 \\bigg( \\int_0^t e^{a(u-t)} dW_u\\bigg)^2| F_0 \\bigg]  = E\\bigg[\\sigma^2 \\int_0^t e^{2a(u-t)} du| F_0 \\bigg] = E\\bigg[\\sigma^2 e^{-2at} \\int_0^t e^{2au} du| F_0 \\bigg] = * $$\n",
    "\n",
    "\n",
    "Using the integration formula to avoid some lines of equations:\n",
    "$$ \\int e^{kx} = \\frac{1}{k}e^{kx} + C $$\n",
    "\n",
    "We can calculate separately\n",
    "$$ \\int_0^t e^{2au} du = \\bigg[\\frac{1}{2a} e^{2au}\\bigg]_0^t = \\frac{e^{2at}-1}{2a} $$\n",
    "\n",
    "Continuing from the \"*\"\n",
    "\n",
    "$$ * = E\\bigg[\\sigma^2 e^{-2at} \\frac{e^{2at}-1}{2a}| F_0 \\bigg] = E\\bigg[\\sigma^2 \\frac{1-e^{-2at}}{2a}| F_0 \\bigg] = \\frac{\\sigma^2}{2a}(1-e^{-2at})   $$\n",
    "\n",
    "To summarize:\n",
    "\n",
    "$$ V\\bigg[r_t | F_0 \\bigg] = \\frac{\\sigma^2}{2a}(1-e^{-2at}) $$\n"
   ]
  },
  {
   "cell_type": "markdown",
   "id": "2d047b3f",
   "metadata": {},
   "source": [
    "## Expectation if $\\theta$ is a piecewise constant function\n",
    "\n",
    "Assume that $\\theta$ is a piecewise constant parameter that changes values at times $ \\{0=t_0 < t_1 < \\dots< t_n = t \\} $. \n",
    "\n",
    "The parameter holds the values $ \\{\\theta_0, \\theta_1, \\dots, \\theta_n\\} $.\n",
    "\n",
    "The expectation of the Hull-White model would require us to calculate the integral\n",
    "\n",
    "\n",
    "$$  E\\bigg[r_t | F_0 \\bigg]  = e^{-at} r_0 + \\int_0^t \\theta_u e^{a(u-t)} du $$\n",
    "\n",
    "Using the fact that $\\theta$ is a piecewise constant function, this expresion can be further simplified:\n",
    "\n",
    "$$ e^{-at} r_0 + \\int_0^t \\theta_u e^{a(u-t)} du = e^{-at} r_0 + \\sum_{i=1}^{n} \\int_{t_i}^{t_{i-1}}\\theta_i e^{a(u-t)} du = $$\n",
    "\n",
    "$$ = e^{-at} r_0 + \\sum_{i=1}^{n} \\theta_i \\int_{t_i}^{t_{i-1}} e^{au} e^{-at} du  = e^{-at} r_0 + e^{-at} \\sum_{i=1}^{n} \\theta_i \\int_{t_i}^{t_{i-1}} e^{au} du = $$\n",
    "\n",
    "$$ = e^{-at} r_0 + e^{-at} \\sum_{i=1}^{n} \\theta_i \\bigg[ \\frac{1}{a} e^{au} \\bigg]_{t_{i-1}}^{t_{i}} =  e^{-at} r_0 + \\frac{e^{-at}}{a} \\sum_{i=1}^{n} \\theta_i  (e^{at_i} - e^{at_{i-1}}) $$\n",
    "\n"
   ]
  },
  {
   "cell_type": "code",
   "execution_count": null,
   "id": "c8bb9d9c",
   "metadata": {},
   "outputs": [],
   "source": []
  }
 ],
 "metadata": {
  "kernelspec": {
   "display_name": "Python 3 (ipykernel)",
   "language": "python",
   "name": "python3"
  },
  "language_info": {
   "codemirror_mode": {
    "name": "ipython",
    "version": 3
   },
   "file_extension": ".py",
   "mimetype": "text/x-python",
   "name": "python",
   "nbconvert_exporter": "python",
   "pygments_lexer": "ipython3",
   "version": "3.9.7"
  }
 },
 "nbformat": 4,
 "nbformat_minor": 5
}
